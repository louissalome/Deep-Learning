{
 "cells": [
  {
   "cell_type": "markdown",
   "metadata": {},
   "source": [
    "<html>\n",
    "<h1 style = \"text-align : center; border : 1px black solid; padding : 20px; width:100%;\"> DL. Task 2</h1>\n",
    "\n",
    "<h5 style = \"text-align : right;\">Louis Salomé</h5>\n",
    "\n",
    "<br>Here are the main parts of this notebook :\n",
    "<ol>\n",
    "<li>Load MNIST dataset</li>\n",
    "<li>Train random forest classifier on train data. Evaluate models on test data. Use accuracy score as main evaluation metric</li>\n",
    "<li>Train MLP on train data. Evaluate MLP on test data. Compare with previous results</li>\n",
    "<li>Add random normal noise to train and test data. Then, repeat step #2 on noisy data</li>\n",
    "<li>Train Simple (Non convolutional) Denoising Autoencoder and reconstruct data from data with noise. Repeat step #2 on reconstructed data.</li>\n",
    "<li>Compare all results</li>\n",
    "</ol>\n",
    "</html>\n"
   ]
  },
  {
   "cell_type": "code",
   "execution_count": 1,
   "metadata": {},
   "outputs": [
    {
     "name": "stderr",
     "output_type": "stream",
     "text": [
      "Using TensorFlow backend.\n"
     ]
    }
   ],
   "source": [
    "### import part\n",
    "\n",
    "# Process data\n",
    "import numpy as np\n",
    "\n",
    "# Plot graphics\n",
    "import matplotlib\n",
    "from matplotlib import pyplot as plt\n",
    "\n",
    "# Measure time\n",
    "import time\n",
    "from time import time, mktime\n",
    "\n",
    "#Simulate randomness\n",
    "import random as rd\n",
    "\n",
    "# Load Data\n",
    "import keras\n",
    "from keras.datasets.mnist import load_data\n",
    "\n",
    "# Model selection\n",
    "import sklearn\n",
    "from sklearn.linear_model import LogisticRegression\n",
    "from sklearn import preprocessing\n",
    "from sklearn.model_selection import cross_val_score\n",
    "from sklearn.ensemble import RandomForestClassifier\n",
    "from sklearn.neural_network import MLPClassifier\n",
    "from sklearn.metrics import accuracy_score\n",
    "\n",
    "# Deep Learning\n",
    "import keras\n",
    "from keras.models import Sequential, Model\n",
    "from keras.layers import Dense, Dropout, Activation, Flatten, Input, Conv2D, MaxPooling2D, UpSampling2D\n",
    "from keras.optimizers import SGD\n",
    "from keras.callbacks import TensorBoard\n",
    "\n",
    "# Use only one of the 4 GPUs\n",
    "# Using the command nvidia-sim we can chose the freest GPU\n",
    "import os \n",
    "os.environ['CUDA_VISIBLE_DEVICES'] = '1' # Here is the NUMBER_OF_GPU\n",
    "import tensorflow as tf\n",
    "config = tf.ConfigProto()\n",
    "config.gpu_options.allow_growth = True\n",
    "session = tf.Session(config=config)"
   ]
  },
  {
   "cell_type": "markdown",
   "metadata": {},
   "source": [
    "### 1. MINST dataset\n",
    "\n",
    "MNIST database of handwritten digits\n",
    "Dataset of 60,000 28x28 grayscale images of the 10 digits, along with a test set of 10,000 images."
   ]
  },
  {
   "cell_type": "code",
   "execution_count": 2,
   "metadata": {},
   "outputs": [
    {
     "name": "stdout",
     "output_type": "stream",
     "text": [
      "Train set : 60000 image of size 28 x 28 .\n",
      "Test set  : 10000 image of size 28 x 28 .\n"
     ]
    }
   ],
   "source": [
    "(x_train, y_train), (x_test, y_test) = load_data()\n",
    "[m    ,h,w] = np.shape(x_train)\n",
    "[mtest,h,w] = np.shape(x_test)\n",
    "print(\"Train set :\",m,\"image of size\",h,\"x\",w,\".\")\n",
    "print(\"Test set  :\",mtest,\"image of size\",h,\"x\",w,\".\")"
   ]
  },
  {
   "cell_type": "markdown",
   "metadata": {},
   "source": [
    "To use it in our models, we have to reshape these images of 28x28 pixels into vectors of shape 784x1. We also normalize the data as it is a good practice in machine learning to have values between in [0,1]."
   ]
  },
  {
   "cell_type": "code",
   "execution_count": 3,
   "metadata": {},
   "outputs": [],
   "source": [
    "x_train = x_train.astype('float32')\n",
    "x_test = x_test.astype('float32')\n",
    "\n",
    "x_train = keras.utils.normalize(x_train,axis=1)\n",
    "x_test = keras.utils.normalize(x_test,axis=1)\n",
    "\n",
    "x_train = np.reshape(x_train, (m, h*w))  # adapt this if using `channels_first` image data format\n",
    "x_test = np.reshape(x_test, (mtest, h*w))  # adapt this if using `channels_first` image data format"
   ]
  },
  {
   "cell_type": "code",
   "execution_count": 4,
   "metadata": {},
   "outputs": [
    {
     "name": "stdout",
     "output_type": "stream",
     "text": [
      "This is how an image of the dataset looks like :\n"
     ]
    },
    {
     "data": {
      "image/png": "[encoded data removed]",
      "text/plain": [
       "<Figure size 432x288 with 1 Axes>"
      ]
     },
     "metadata": {
      "needs_background": "light"
     },
     "output_type": "display_data"
    }
   ],
   "source": [
    "r = rd.randint(0,60000-1)\n",
    "print(\"This is how an image of the dataset looks like :\")\n",
    "plt.imshow(x_train[r].reshape((h,w)), cmap='gray')\n",
    "plt.show()"
   ]
  },
  {
   "cell_type": "markdown",
   "metadata": {},
   "source": [
    "### 2. Random forest classifier\n",
    "\n",
    "We first initialize our forest by setting its parameters."
   ]
  },
  {
   "cell_type": "code",
   "execution_count": 5,
   "metadata": {},
   "outputs": [],
   "source": [
    "RFtrainedOnOrginalData = RandomForestClassifier(\n",
    "    n_estimators=100,\n",
    "    criterion = 'gini')"
   ]
  },
  {
   "cell_type": "markdown",
   "metadata": {},
   "source": [
    "Then we fit the classifier with x_train. If the amound of data is too big, this fitting can be quite long."
   ]
  },
  {
   "cell_type": "code",
   "execution_count": 6,
   "metadata": {},
   "outputs": [
    {
     "name": "stdout",
     "output_type": "stream",
     "text": [
      "Elapsed time for fitting :  62.96 secondes.\n"
     ]
    }
   ],
   "source": [
    "start=time()\n",
    "RFtrainedOnOrginalData.fit(x_train, y_train)\n",
    "print(\"Elapsed time for fitting : \", round(time()-start,2),\"secondes.\")"
   ]
  },
  {
   "cell_type": "markdown",
   "metadata": {},
   "source": [
    "We finally predict results for the testing set."
   ]
  },
  {
   "cell_type": "code",
   "execution_count": 7,
   "metadata": {},
   "outputs": [],
   "source": [
    "y_predict = RFtrainedOnOrginalData.predict(x_test)"
   ]
  },
  {
   "cell_type": "markdown",
   "metadata": {},
   "source": [
    "Now we need an function to evaluate the accuracy of this prediction."
   ]
  },
  {
   "cell_type": "code",
   "execution_count": 8,
   "metadata": {},
   "outputs": [
    {
     "name": "stdout",
     "output_type": "stream",
     "text": [
      "We found an accuracy of 96.92 %.\n"
     ]
    }
   ],
   "source": [
    "acc = accuracy_score(y_test, y_predict, normalize=True)\n",
    "print(\"We found an accuracy of\",round(100*acc,2),\"%.\")"
   ]
  },
  {
   "cell_type": "markdown",
   "metadata": {},
   "source": [
    "### 3. Multi-layer Perceptron\n",
    "\n",
    "We first initialize our classifier by setting its parameters.\n",
    "\n",
    "Code inspired from youtube video : https://www.youtube.com/watch?v=wQ8BIBpya2k"
   ]
  },
  {
   "cell_type": "code",
   "execution_count": 9,
   "metadata": {},
   "outputs": [
    {
     "name": "stdout",
     "output_type": "stream",
     "text": [
      "Epoch 1/20\n",
      "60000/60000 [==============================] - 3s 44us/step - loss: 0.2952 - acc: 0.8759\n",
      "Epoch 2/20\n",
      "60000/60000 [==============================] - 2s 36us/step - loss: 0.1297 - acc: 0.9406\n",
      "Epoch 3/20\n",
      "60000/60000 [==============================] - 2s 37us/step - loss: 0.0999 - acc: 0.9543\n",
      "Epoch 4/20\n",
      "60000/60000 [==============================] - 2s 35us/step - loss: 0.0819 - acc: 0.9628\n",
      "Epoch 5/20\n",
      "60000/60000 [==============================] - 2s 36us/step - loss: 0.0700 - acc: 0.9680\n",
      "Epoch 6/20\n",
      "60000/60000 [==============================] - 2s 36us/step - loss: 0.0612 - acc: 0.9719\n",
      "Epoch 7/20\n",
      "60000/60000 [==============================] - 2s 36us/step - loss: 0.0545 - acc: 0.9753\n",
      "Epoch 8/20\n",
      "60000/60000 [==============================] - 2s 35us/step - loss: 0.0482 - acc: 0.9778\n",
      "Epoch 9/20\n",
      "60000/60000 [==============================] - 2s 40us/step - loss: 0.0429 - acc: 0.9803\n",
      "Epoch 10/20\n",
      "60000/60000 [==============================] - 2s 38us/step - loss: 0.0383 - acc: 0.9827\n",
      "Epoch 11/20\n",
      "60000/60000 [==============================] - 2s 36us/step - loss: 0.0356 - acc: 0.9839\n",
      "Epoch 12/20\n",
      "60000/60000 [==============================] - 2s 37us/step - loss: 0.0329 - acc: 0.9849\n",
      "Epoch 13/20\n",
      "60000/60000 [==============================] - 2s 34us/step - loss: 0.0307 - acc: 0.9860\n",
      "Epoch 14/20\n",
      "60000/60000 [==============================] - 2s 35us/step - loss: 0.0289 - acc: 0.9867\n",
      "Epoch 15/20\n",
      "60000/60000 [==============================] - 2s 37us/step - loss: 0.0268 - acc: 0.9878\n",
      "Epoch 16/20\n",
      "60000/60000 [==============================] - 2s 37us/step - loss: 0.0259 - acc: 0.9881\n",
      "Epoch 17/20\n",
      "60000/60000 [==============================] - 2s 35us/step - loss: 0.0238 - acc: 0.9890\n",
      "Epoch 18/20\n",
      "60000/60000 [==============================] - 2s 36us/step - loss: 0.0226 - acc: 0.9896\n",
      "Epoch 19/20\n",
      "60000/60000 [==============================] - 2s 36us/step - loss: 0.0219 - acc: 0.9897\n",
      "Epoch 20/20\n",
      "60000/60000 [==============================] - 2s 37us/step - loss: 0.0202 - acc: 0.9905\n",
      "Elapsed time for fitting :  44.24 secondes.\n"
     ]
    }
   ],
   "source": [
    "# Architecture\n",
    "MLPtrainedOnOriginalData = Sequential()\n",
    "#model.add(Flatten())\n",
    "MLPtrainedOnOriginalData.add(Dense(128, activation=tf.nn.relu, input_dim=h*w))\n",
    "MLPtrainedOnOriginalData.add(Dense(64, activation=tf.nn.relu))\n",
    "MLPtrainedOnOriginalData.add(Dense(10, activation=tf.nn.softmax))\n",
    "\n",
    "# Compilation\n",
    "MLPtrainedOnOriginalData.compile(\n",
    "              optimizer='adam',\n",
    "              loss='categorical_hinge',\n",
    "              metrics=['accuracy'])\n",
    "# model will be our mlp for the whole lab\n",
    "\n",
    "# Training\n",
    "start = time()\n",
    "MLPtrainedOnOriginalData.fit(x_train, keras.utils.np_utils.to_categorical(y_train), epochs=20, batch_size=128)\n",
    "print(\"Elapsed time for fitting : \", round(time()-start,2),\"secondes.\")"
   ]
  },
  {
   "cell_type": "code",
   "execution_count": 10,
   "metadata": {},
   "outputs": [
    {
     "name": "stdout",
     "output_type": "stream",
     "text": [
      "We found an accuracy of 97.29 %.\n"
     ]
    }
   ],
   "source": [
    "# Predicting\n",
    "y_predict_onehot = MLPtrainedOnOriginalData.predict([x_test])\n",
    "y_predict = np.zeros(mtest)\n",
    "for i in range(mtest):\n",
    "    y_predict[i] = np.argmax(y_predict_onehot[i])\n",
    "    \n",
    "# Calculating accuracy\n",
    "acc = accuracy_score(y_predict,y_test)\n",
    "print(\"We found an accuracy of\",round(100*acc,2),\"%.\")\n",
    "\n",
    "# Quicker & specific to keras :\n",
    "# val_loss, val_acc = model.evaluate(x_test,y_test)\n",
    "# print(\"We found an accuracy of\",round(100*val_acc,2),\"%.\")"
   ]
  },
  {
   "cell_type": "markdown",
   "metadata": {},
   "source": [
    "### 4. Noisy Data\n",
    "\n",
    "In this part we are going to add some noise to the data and observe its consequence on the classification.\n",
    "\n",
    "##### 4.1 Add noise on data"
   ]
  },
  {
   "cell_type": "code",
   "execution_count": 11,
   "metadata": {},
   "outputs": [],
   "source": [
    "meanNoise = 0\n",
    "stdNoise = 0.2 #This means that a typical noise will be +0.3 or -0.3 on every pixel\n",
    "   \n",
    "x_train_noisy = x_train + np.random.normal(loc=meanNoise, scale=stdNoise, size=x_train.shape) \n",
    "x_test_noisy  = x_test  + np.random.normal(loc=meanNoise, scale=stdNoise, size=x_test.shape) \n",
    "\n",
    "# The data must stay in [0,1]\n",
    "x_train_noisy = np.clip(x_train_noisy, 0., 1.)\n",
    "x_test_noisy = np.clip(x_test_noisy, 0., 1.)"
   ]
  },
  {
   "cell_type": "code",
   "execution_count": 12,
   "metadata": {},
   "outputs": [
    {
     "name": "stdout",
     "output_type": "stream",
     "text": [
      "This is how an image of the dataset looks like : (image number 16267 )\n"
     ]
    },
    {
     "data": {
      "image/png": "[encoded data removed]",
      "text/plain": [
       "<Figure size 864x360 with 2 Axes>"
      ]
     },
     "metadata": {
      "needs_background": "light"
     },
     "output_type": "display_data"
    }
   ],
   "source": [
    "# Let's visualize our noisy data\n",
    "r = rd.randint(0,60000-1)\n",
    "print(\"This is how an image of the dataset looks like : (image number\",r,\")\")\n",
    "f, axarr = plt.subplots(1,2, figsize=(12,5))\n",
    "axarr[0].imshow(x_train[r].reshape((h,w)), cmap='gray')\n",
    "axarr[0].set_title(\"Original Image\")\n",
    "axarr[1].imshow(x_train_noisy[r].reshape((h,w)),cmap='gray')\n",
    "axarr[1].set_title(\"Noisy Image\")\n",
    "plt.show()"
   ]
  },
  {
   "cell_type": "markdown",
   "metadata": {},
   "source": [
    "Now let's do the same classification as before on this noisy dataset."
   ]
  },
  {
   "cell_type": "markdown",
   "metadata": {},
   "source": [
    "##### 4.2 Random forest classifier on noisy data\n",
    "\n",
    "Same as section 2."
   ]
  },
  {
   "cell_type": "code",
   "execution_count": 13,
   "metadata": {},
   "outputs": [
    {
     "name": "stdout",
     "output_type": "stream",
     "text": [
      "Elapsed time for fitting :  13.7 secondes.\n",
      "We found an accuracy of 82.94 %.\n"
     ]
    }
   ],
   "source": [
    "RFtrainedOnNoisyData = RandomForestClassifier(\n",
    "    n_estimators=10,\n",
    "    criterion = 'gini')\n",
    "start=time()\n",
    "RFtrainedOnNoisyData.fit(x_train_noisy, y_train)\n",
    "print(\"Elapsed time for fitting : \", round(time()-start,2),\"secondes.\")\n",
    "y_predict = RFtrainedOnNoisyData.predict(x_test)\n",
    "acc = accuracy_score(y_predict,y_test)\n",
    "print(\"We found an accuracy of\",round(100*acc,2),\"%.\")"
   ]
  },
  {
   "cell_type": "markdown",
   "metadata": {},
   "source": [
    "##### 4.3 Multi-layer perceptron on noisy data\n",
    "\n",
    "Same as section 3."
   ]
  },
  {
   "cell_type": "code",
   "execution_count": 14,
   "metadata": {},
   "outputs": [
    {
     "name": "stdout",
     "output_type": "stream",
     "text": [
      "Epoch 1/20\n",
      "60000/60000 [==============================] - 2s 40us/step - loss: 0.5530 - acc: 0.7370\n",
      "Epoch 2/20\n",
      "60000/60000 [==============================] - 2s 37us/step - loss: 0.2872 - acc: 0.8674\n",
      "Epoch 3/20\n",
      "60000/60000 [==============================] - 2s 37us/step - loss: 0.2437 - acc: 0.8849\n",
      "Epoch 4/20\n",
      "60000/60000 [==============================] - 2s 38us/step - loss: 0.2191 - acc: 0.8966\n",
      "Epoch 5/20\n",
      "60000/60000 [==============================] - 2s 39us/step - loss: 0.1984 - acc: 0.9056\n",
      "Epoch 6/20\n",
      "60000/60000 [==============================] - 2s 37us/step - loss: 0.1822 - acc: 0.9139\n",
      "Epoch 7/20\n",
      "60000/60000 [==============================] - 2s 37us/step - loss: 0.1698 - acc: 0.9193\n",
      "Epoch 8/20\n",
      "60000/60000 [==============================] - 2s 38us/step - loss: 0.1562 - acc: 0.9262\n",
      "Epoch 9/20\n",
      "60000/60000 [==============================] - 2s 39us/step - loss: 0.1462 - acc: 0.9302\n",
      "Epoch 10/20\n",
      "60000/60000 [==============================] - 2s 38us/step - loss: 0.1381 - acc: 0.9344\n",
      "Epoch 11/20\n",
      "60000/60000 [==============================] - 2s 38us/step - loss: 0.1291 - acc: 0.9385\n",
      "Epoch 12/20\n",
      "60000/60000 [==============================] - 2s 41us/step - loss: 0.1216 - acc: 0.9423\n",
      "Epoch 13/20\n",
      "60000/60000 [==============================] - 2s 39us/step - loss: 0.1153 - acc: 0.9448\n",
      "Epoch 14/20\n",
      "60000/60000 [==============================] - 2s 38us/step - loss: 0.1102 - acc: 0.9474\n",
      "Epoch 15/20\n",
      "60000/60000 [==============================] - 2s 39us/step - loss: 0.1037 - acc: 0.9502\n",
      "Epoch 16/20\n",
      "60000/60000 [==============================] - 2s 39us/step - loss: 0.1006 - acc: 0.9514\n",
      "Epoch 17/20\n",
      "60000/60000 [==============================] - 2s 37us/step - loss: 0.0966 - acc: 0.9535\n",
      "Epoch 18/20\n",
      "60000/60000 [==============================] - 2s 37us/step - loss: 0.0933 - acc: 0.9546\n",
      "Epoch 19/20\n",
      "60000/60000 [==============================] - 2s 38us/step - loss: 0.0894 - acc: 0.9563\n",
      "Epoch 20/20\n",
      "60000/60000 [==============================] - 2s 37us/step - loss: 0.0885 - acc: 0.9568\n",
      "Elapsed time for fitting :  45.98 secondes.\n"
     ]
    }
   ],
   "source": [
    "# Training on noisy data\n",
    "# Architecture\n",
    "MLPtrainedOnNoisyData = Sequential()\n",
    "#model.add(Flatten())\n",
    "MLPtrainedOnNoisyData.add(Dense(128, activation=tf.nn.relu, input_dim=h*w))\n",
    "MLPtrainedOnNoisyData.add(Dense(64, activation=tf.nn.relu))\n",
    "MLPtrainedOnNoisyData.add(Dense(10, activation=tf.nn.softmax))\n",
    "\n",
    "# Compilation\n",
    "MLPtrainedOnNoisyData.compile(\n",
    "              optimizer='adam',\n",
    "              loss='categorical_hinge',\n",
    "              metrics=['accuracy'])\n",
    "# model will be our mlp for the whole lab\n",
    "\n",
    "# Training\n",
    "start = time()\n",
    "MLPtrainedOnNoisyData.fit(x_train_noisy, keras.utils.np_utils.to_categorical(y_train), epochs=20, batch_size=128)\n",
    "print(\"Elapsed time for fitting : \", round(time()-start,2),\"secondes.\")"
   ]
  },
  {
   "cell_type": "code",
   "execution_count": 15,
   "metadata": {},
   "outputs": [
    {
     "name": "stdout",
     "output_type": "stream",
     "text": [
      "We found an accuracy of 94.55 %.\n"
     ]
    }
   ],
   "source": [
    "# Predicting\n",
    "y_predict_onehot = MLPtrainedOnNoisyData.predict([x_test])\n",
    "y_predict = np.zeros(mtest)\n",
    "for i in range(mtest):\n",
    "    y_predict[i] = np.argmax(y_predict_onehot[i])\n",
    "    \n",
    "# Calculating accuracy\n",
    "acc = accuracy_score(y_predict,y_test)\n",
    "print(\"We found an accuracy of\",round(100*acc,2),\"%.\")"
   ]
  },
  {
   "cell_type": "markdown",
   "metadata": {},
   "source": [
    "### 5. Denoising autoencoder\n",
    "\n",
    "In this part we are going to reduce the noise we added before so that we find a smoother version than original data without too much noise.\n",
    "\n",
    "##### 5.1 Building an autoencoder\n",
    "\n",
    "Code from : https://blog.keras.io/building-autoencoders-in-keras.html\n",
    "\n",
    "We first build the architecture of the autoencoder."
   ]
  },
  {
   "cell_type": "code",
   "execution_count": 16,
   "metadata": {},
   "outputs": [],
   "source": [
    "# This algorithm was designed for a four-dimension dataset.\n",
    "x_train = np.reshape(x_train, (m    , 28, 28, 1))  # adapt this if using `channels_first` image data format\n",
    "x_test  = np.reshape(x_test , (mtest, 28, 28, 1))  # adapt this if using `channels_first` image data format \n",
    "\n",
    "x_train_noisy = np.reshape(x_train_noisy, (m    , 28, 28, 1))\n",
    "x_test_noisy  = np.reshape(x_test_noisy , (mtest, 28, 28, 1))"
   ]
  },
  {
   "cell_type": "code",
   "execution_count": 17,
   "metadata": {},
   "outputs": [],
   "source": [
    "input_img = Input(shape=(28, 28, 1))  # adapt this if using `channels_first` image data format\n",
    "\n",
    "x = Conv2D(32, (3, 3), activation='relu', padding='same')(input_img)\n",
    "x = MaxPooling2D((2, 2), padding='same')(x)\n",
    "x = Conv2D(32, (3, 3), activation='relu', padding='same')(x)\n",
    "encoded = MaxPooling2D((2, 2), padding='same')(x)\n",
    "\n",
    "# at this point the representation is (7, 7, 32)\n",
    "\n",
    "x = Conv2D(32, (3, 3), activation='relu', padding='same')(encoded)\n",
    "x = UpSampling2D((2, 2))(x)\n",
    "x = Conv2D(32, (3, 3), activation='relu', padding='same')(x)\n",
    "x = UpSampling2D((2, 2))(x)\n",
    "decoded = Conv2D(1, (3, 3), activation='sigmoid', padding='same')(x)\n",
    "\n",
    "autoencoder = Model(input_img, decoded)\n",
    "autoencoder.compile(optimizer='adadelta', loss='binary_crossentropy')"
   ]
  },
  {
   "cell_type": "markdown",
   "metadata": {},
   "source": [
    "Then we can train it."
   ]
  },
  {
   "cell_type": "code",
   "execution_count": 18,
   "metadata": {},
   "outputs": [
    {
     "name": "stdout",
     "output_type": "stream",
     "text": [
      "Train on 60000 samples, validate on 10000 samples\n",
      "Epoch 1/20\n",
      "60000/60000 [==============================] - 6s 95us/step - loss: 0.1542 - val_loss: 0.1242\n",
      "Epoch 2/20\n",
      "60000/60000 [==============================] - 5s 81us/step - loss: 0.1206 - val_loss: 0.1205\n",
      "Epoch 3/20\n",
      "60000/60000 [==============================] - 5s 78us/step - loss: 0.1179 - val_loss: 0.1181\n",
      "Epoch 4/20\n",
      "60000/60000 [==============================] - 5s 78us/step - loss: 0.1166 - val_loss: 0.1173\n",
      "Epoch 5/20\n",
      "60000/60000 [==============================] - 5s 77us/step - loss: 0.1159 - val_loss: 0.1161\n",
      "Epoch 6/20\n",
      "60000/60000 [==============================] - 5s 79us/step - loss: 0.1153 - val_loss: 0.1156\n",
      "Epoch 7/20\n",
      "60000/60000 [==============================] - 5s 79us/step - loss: 0.1150 - val_loss: 0.1155\n",
      "Epoch 8/20\n",
      "60000/60000 [==============================] - 5s 79us/step - loss: 0.1146 - val_loss: 0.1150\n",
      "Epoch 9/20\n",
      "60000/60000 [==============================] - 5s 80us/step - loss: 0.1144 - val_loss: 0.1149\n",
      "Epoch 10/20\n",
      "60000/60000 [==============================] - 5s 80us/step - loss: 0.1142 - val_loss: 0.1149\n",
      "Epoch 11/20\n",
      "60000/60000 [==============================] - 5s 80us/step - loss: 0.1140 - val_loss: 0.1144\n",
      "Epoch 12/20\n",
      "60000/60000 [==============================] - 5s 78us/step - loss: 0.1138 - val_loss: 0.1144\n",
      "Epoch 13/20\n",
      "60000/60000 [==============================] - 5s 79us/step - loss: 0.1137 - val_loss: 0.1142\n",
      "Epoch 14/20\n",
      "60000/60000 [==============================] - 5s 77us/step - loss: 0.1136 - val_loss: 0.1141\n",
      "Epoch 15/20\n",
      "60000/60000 [==============================] - 5s 81us/step - loss: 0.1134 - val_loss: 0.1144\n",
      "Epoch 16/20\n",
      "60000/60000 [==============================] - 5s 79us/step - loss: 0.1133 - val_loss: 0.1142\n",
      "Epoch 17/20\n",
      "60000/60000 [==============================] - 5s 78us/step - loss: 0.1132 - val_loss: 0.1139\n",
      "Epoch 18/20\n",
      "60000/60000 [==============================] - 5s 79us/step - loss: 0.1131 - val_loss: 0.1138\n",
      "Epoch 19/20\n",
      "60000/60000 [==============================] - 5s 79us/step - loss: 0.1130 - val_loss: 0.1137\n",
      "Epoch 20/20\n",
      "60000/60000 [==============================] - 5s 79us/step - loss: 0.1130 - val_loss: 0.1137\n",
      "Elapsed time for fitting : 96.09 secondes.\n"
     ]
    }
   ],
   "source": [
    "start=time()\n",
    "autoencoder.fit(x_train_noisy, x_train,\n",
    "                epochs=20,\n",
    "                batch_size=128,\n",
    "                shuffle=True,\n",
    "                validation_data=(x_test_noisy, x_test)\n",
    "                #callbacks=[TensorBoard(log_dir='/tmp/tb', histogram_freq=0, write_graph=False)]\n",
    "               )\n",
    "print(\"Elapsed time for fitting :\", round(time()-start,2),\"secondes.\")"
   ]
  },
  {
   "cell_type": "markdown",
   "metadata": {},
   "source": [
    "Now we can produce our new denoised data."
   ]
  },
  {
   "cell_type": "code",
   "execution_count": 19,
   "metadata": {},
   "outputs": [],
   "source": [
    "x_train_denoised = autoencoder.predict(x_train_noisy)\n",
    "x_test_denoised = autoencoder.predict(x_test_noisy)"
   ]
  },
  {
   "cell_type": "code",
   "execution_count": 20,
   "metadata": {},
   "outputs": [],
   "source": [
    "x_train = np.reshape(x_train, (m    , h*w)) \n",
    "x_test  = np.reshape(x_test , (mtest, h*w))\n",
    "x_train_noisy = np.reshape(x_train_noisy, (m    , h*w)) \n",
    "x_test_noisy  = np.reshape(x_test_noisy , (mtest, h*w))\n",
    "x_train_denoised = np.reshape(x_train_denoised, (m    , h*w)) \n",
    "x_test_denoised  = np.reshape(x_test_denoised , (mtest, h*w))"
   ]
  },
  {
   "cell_type": "code",
   "execution_count": 21,
   "metadata": {},
   "outputs": [
    {
     "name": "stdout",
     "output_type": "stream",
     "text": [
      "This is how an image of the dataset looks like : (image number 34018 )\n"
     ]
    },
    {
     "data": {
      "image/png": "[encoded data removed]",
      "text/plain": [
       "<Figure size 1296x360 with 3 Axes>"
      ]
     },
     "metadata": {
      "needs_background": "light"
     },
     "output_type": "display_data"
    }
   ],
   "source": [
    "# Run this cell to look at a new image !\n",
    "r = rd.randint(0,60000-1)\n",
    "print(\"This is how an image of the dataset looks like : (image number\",r,\")\")\n",
    "f, axarr = plt.subplots(1,3, figsize=(18,5))\n",
    "axarr[0].imshow(x_train[r].reshape((h,w)), cmap='gray')\n",
    "axarr[0].set_title(\"Original Image\")\n",
    "axarr[1].imshow(x_train_noisy[r].reshape((h,w)),cmap='gray')\n",
    "axarr[1].set_title(\"Noisy Image\")\n",
    "axarr[2].imshow(x_train_denoised[r].reshape((h,w)),cmap='gray')\n",
    "axarr[2].set_title(\"Denoised Image\")\n",
    "plt.show()"
   ]
  },
  {
   "cell_type": "markdown",
   "metadata": {},
   "source": [
    "##### 5.2 Random forest classifier on denoised data\n",
    "\n",
    "Same as section 2."
   ]
  },
  {
   "cell_type": "code",
   "execution_count": 22,
   "metadata": {},
   "outputs": [
    {
     "name": "stdout",
     "output_type": "stream",
     "text": [
      "Elapsed time for fitting :  214.27 secondes.\n",
      "We found an accuracy of 90.58 %.\n"
     ]
    }
   ],
   "source": [
    "RFtrainedOnDenoisedData = RandomForestClassifier(\n",
    "    n_estimators=100,\n",
    "    criterion = 'gini')\n",
    "start=time()\n",
    "RFtrainedOnDenoisedData.fit(x_train_denoised, y_train)\n",
    "print(\"Elapsed time for fitting : \", round(time()-start,2),\"secondes.\")\n",
    "y_predict = RFtrainedOnDenoisedData.predict(x_test)\n",
    "acc = accuracy_score(y_predict,y_test)\n",
    "print(\"We found an accuracy of\",round(100*acc,2),\"%.\")"
   ]
  },
  {
   "cell_type": "markdown",
   "metadata": {},
   "source": [
    "##### 5.3 Multi-layer perceptron on denoised data\n",
    "\n",
    "Same as section 3."
   ]
  },
  {
   "cell_type": "code",
   "execution_count": 23,
   "metadata": {},
   "outputs": [
    {
     "name": "stdout",
     "output_type": "stream",
     "text": [
      "Epoch 1/20\n",
      "60000/60000 [==============================] - 2s 41us/step - loss: 0.3355 - acc: 0.8568\n",
      "Epoch 2/20\n",
      "60000/60000 [==============================] - 2s 37us/step - loss: 0.1766 - acc: 0.9175\n",
      "Epoch 3/20\n",
      "60000/60000 [==============================] - 3s 42us/step - loss: 0.1482 - acc: 0.9297\n",
      "Epoch 4/20\n",
      "60000/60000 [==============================] - 2s 39us/step - loss: 0.1306 - acc: 0.9381\n",
      "Epoch 5/20\n",
      "60000/60000 [==============================] - 2s 37us/step - loss: 0.1186 - acc: 0.9439\n",
      "Epoch 6/20\n",
      "60000/60000 [==============================] - 2s 38us/step - loss: 0.1089 - acc: 0.9481\n",
      "Epoch 7/20\n",
      "60000/60000 [==============================] - 2s 38us/step - loss: 0.1003 - acc: 0.9526\n",
      "Epoch 8/20\n",
      "60000/60000 [==============================] - 2s 37us/step - loss: 0.0927 - acc: 0.9563\n",
      "Epoch 9/20\n",
      "60000/60000 [==============================] - 2s 37us/step - loss: 0.0878 - acc: 0.9587\n",
      "Epoch 10/20\n",
      "60000/60000 [==============================] - 2s 38us/step - loss: 0.0830 - acc: 0.9612\n",
      "Epoch 11/20\n",
      "60000/60000 [==============================] - 2s 38us/step - loss: 0.0787 - acc: 0.9631\n",
      "Epoch 12/20\n",
      "60000/60000 [==============================] - 2s 38us/step - loss: 0.0746 - acc: 0.9652\n",
      "Epoch 13/20\n",
      "60000/60000 [==============================] - 2s 38us/step - loss: 0.0719 - acc: 0.9660\n",
      "Epoch 14/20\n",
      "60000/60000 [==============================] - 2s 37us/step - loss: 0.0673 - acc: 0.9680\n",
      "Epoch 15/20\n",
      "60000/60000 [==============================] - 2s 38us/step - loss: 0.0653 - acc: 0.9691\n",
      "Epoch 16/20\n",
      "60000/60000 [==============================] - 2s 37us/step - loss: 0.0624 - acc: 0.9709\n",
      "Epoch 17/20\n",
      "60000/60000 [==============================] - 2s 37us/step - loss: 0.0603 - acc: 0.9716\n",
      "Epoch 18/20\n",
      "60000/60000 [==============================] - 2s 38us/step - loss: 0.0583 - acc: 0.9724\n",
      "Epoch 19/20\n",
      "60000/60000 [==============================] - 2s 39us/step - loss: 0.0564 - acc: 0.9732\n",
      "Epoch 20/20\n",
      "60000/60000 [==============================] - 2s 39us/step - loss: 0.0556 - acc: 0.9737\n",
      "Elapsed time for fitting :  45.92 secondes.\n"
     ]
    }
   ],
   "source": [
    "# Training on denoised data\n",
    "# Architecture\n",
    "MLPtrainedOnDenoisedData = Sequential()\n",
    "#model.add(Flatten())\n",
    "MLPtrainedOnDenoisedData.add(Dense(128, activation=tf.nn.relu, input_dim=h*w))\n",
    "MLPtrainedOnDenoisedData.add(Dense(64, activation=tf.nn.relu))\n",
    "MLPtrainedOnDenoisedData.add(Dense(10, activation=tf.nn.softmax))\n",
    "\n",
    "# Compilation\n",
    "MLPtrainedOnDenoisedData.compile(\n",
    "              optimizer='adam',\n",
    "              loss='categorical_hinge',\n",
    "              metrics=['accuracy'])\n",
    "# model will be our mlp for the whole lab\n",
    "\n",
    "# Training\n",
    "start = time()\n",
    "MLPtrainedOnDenoisedData.fit(x_train_denoised, keras.utils.np_utils.to_categorical(y_train), epochs=20, batch_size=128)\n",
    "print(\"Elapsed time for fitting : \", round(time()-start,2),\"secondes.\")"
   ]
  },
  {
   "cell_type": "code",
   "execution_count": 24,
   "metadata": {},
   "outputs": [
    {
     "name": "stdout",
     "output_type": "stream",
     "text": [
      "We found an accuracy of 96.88 %.\n"
     ]
    }
   ],
   "source": [
    "# Predicting\n",
    "y_predict_onehot = MLPtrainedOnDenoisedData.predict([x_test])\n",
    "y_predict = np.zeros(mtest)\n",
    "for i in range(mtest):\n",
    "    y_predict[i] = np.argmax(y_predict_onehot[i])\n",
    "    \n",
    "# Calculating accuracy\n",
    "acc = accuracy_score(y_predict,y_test)\n",
    "print(\"We found an accuracy of\",round(100*acc,2),\"%.\")\n",
    "\n",
    "# Quicker & specific to keras :\n",
    "# val_loss, val_acc = model.evaluate(x_test,y_test)\n",
    "# print(\"We found an accuracy of\",round(100*val_acc,2),\"%.\")"
   ]
  },
  {
   "cell_type": "markdown",
   "metadata": {},
   "source": [
    "### 6. Conclusion\n",
    "\n",
    "To sum up, we trained 2 models of Machine Learning on 3 differents types of data :\n",
    "<ul>\n",
    "    <li>The original data</li>\n",
    "    <li>The noisy data</li>\n",
    "    <li>The denoised data</li>\n",
    "</ul>\n",
    "\n",
    "Now we will see how good these differents models are to make predictions on the 3 differents types of test datasets."
   ]
  },
  {
   "cell_type": "code",
   "execution_count": 25,
   "metadata": {},
   "outputs": [],
   "source": [
    "accRForginalXoriginal = round(100*accuracy_score(RFtrainedOnOrginalData.predict(x_test),y_test),3)\n",
    "accRForginalXnoisy    = round(100*accuracy_score(RFtrainedOnOrginalData.predict(x_test_noisy),y_test),3)\n",
    "accRForginalXdenoised = round(100*accuracy_score(RFtrainedOnOrginalData.predict(x_test_denoised),y_test),3)\n",
    "\n",
    "accRFnoisyXoriginal  = round(100*accuracy_score(RFtrainedOnNoisyData.predict(x_test),y_test),3)\n",
    "accRFnoisyXnoisy     = round(100*accuracy_score(RFtrainedOnNoisyData.predict(x_test_noisy),y_test),3)\n",
    "accRFnoisylXdenoised = round(100*accuracy_score(RFtrainedOnNoisyData.predict(x_test_denoised),y_test),3)\n",
    "\n",
    "accRFdenoisedXoriginal  = round(100*accuracy_score(RFtrainedOnDenoisedData.predict(x_test),y_test),3)\n",
    "accRFdenoisedXnoisy     = round(100*accuracy_score(RFtrainedOnDenoisedData.predict(x_test_noisy),y_test),3)\n",
    "accRFdenoisedlXdenoised = round(100*accuracy_score(RFtrainedOnDenoisedData.predict(x_test_denoised),y_test),3)"
   ]
  },
  {
   "cell_type": "code",
   "execution_count": 26,
   "metadata": {},
   "outputs": [
    {
     "name": "stdout",
     "output_type": "stream",
     "text": [
      "10000/10000 [==============================] - 1s 52us/step\n"
     ]
    },
    {
     "data": {
      "text/plain": [
       "[0.056127648037672041, 0.97289999999999999]"
      ]
     },
     "execution_count": 26,
     "metadata": {},
     "output_type": "execute_result"
    }
   ],
   "source": [
    "MLPtrainedOnOriginalData.evaluate(x_test, keras.utils.np_utils.to_categorical(y_test))"
   ]
  },
  {
   "cell_type": "code",
   "execution_count": 27,
   "metadata": {},
   "outputs": [
    {
     "name": "stdout",
     "output_type": "stream",
     "text": [
      "10000/10000 [==============================] - 1s 54us/step\n",
      "10000/10000 [==============================] - 1s 55us/step\n",
      "10000/10000 [==============================] - 1s 51us/step\n",
      "10000/10000 [==============================] - 1s 56us/step\n",
      "10000/10000 [==============================] - 1s 56us/step\n",
      "10000/10000 [==============================] - 1s 56us/step\n",
      "10000/10000 [==============================] - 1s 61us/step\n",
      "10000/10000 [==============================] - 1s 57us/step\n",
      "10000/10000 [==============================] - 1s 50us/step\n"
     ]
    }
   ],
   "source": [
    "accMLPorginalXoriginal = round(100*MLPtrainedOnOriginalData.evaluate(x_test, keras.utils.np_utils.to_categorical(y_test))[1],2)\n",
    "accMLPorginalXnoisy    = round(100*MLPtrainedOnOriginalData.evaluate(x_test_noisy,keras.utils.np_utils.to_categorical(y_test))[1],2)\n",
    "accMLPorginalXdenoised = round(100*MLPtrainedOnOriginalData.evaluate(x_test_denoised,keras.utils.np_utils.to_categorical(y_test))[1],2)\n",
    "\n",
    "accMLPnoisyXoriginal  = round(100*MLPtrainedOnNoisyData.evaluate(x_test, keras.utils.np_utils.to_categorical(y_test))[1],2)\n",
    "accMLPnoisyXnoisy     = round(100*MLPtrainedOnNoisyData.evaluate(x_test_noisy,keras.utils.np_utils.to_categorical(y_test))[1],2)\n",
    "accMLPnoisylXdenoised = round(100*MLPtrainedOnNoisyData.evaluate(x_test_denoised,keras.utils.np_utils.to_categorical(y_test))[1],2)\n",
    "\n",
    "accMLPdenoisedXoriginal  = round(100*MLPtrainedOnDenoisedData.evaluate(x_test,keras.utils.np_utils.to_categorical(y_test))[1],2)\n",
    "accMLPdenoisedXnoisy     = round(100*MLPtrainedOnDenoisedData.evaluate(x_test_noisy,keras.utils.np_utils.to_categorical(y_test))[1],2)\n",
    "accMLPdenoisedlXdenoised = round(100*MLPtrainedOnDenoisedData.evaluate(x_test_denoised,keras.utils.np_utils.to_categorical(y_test))[1],2)"
   ]
  },
  {
   "cell_type": "code",
   "execution_count": 30,
   "metadata": {},
   "outputs": [
    {
     "name": "stdout",
     "output_type": "stream",
     "text": [
      "                             | Orginal Data    | Noisy Data    | Denoised Data    |\n",
      "RF  trained on original Data | 96.92 %         | 50.09 %       | 88.82 %          |\n",
      "RF  trained on noisy Data    | 82.94 %         | 60.94 %       | 79.17 %          |\n",
      "RF  trained on denoised Data | 90.58 %         | 51.39 %       | 94.01 %          |\n",
      "                             |----------------------------------------------------|\n",
      "MLP trained on original Data | 97.29 %         | 56.06 %       | 94.61 %          |\n",
      "MLP trained on noisy Data    | 94.55 %         | 90.51 %       | 91.64 %          |\n",
      "MLP trained on denoised Data | 96.88 %         | 51.19 %       | 95.21 %          |\n"
     ]
    }
   ],
   "source": [
    "print(\"                             |\",\"Orginal Data    |\",\"Noisy Data    |\",\"Denoised Data    |\")\n",
    "print(\"RF  trained on original Data |\",accRForginalXoriginal,\"%         |\",accRForginalXnoisy,\"%       |\",accRForginalXdenoised,\"%          |\")\n",
    "print(\"RF  trained on noisy Data    |\",accRFnoisyXoriginal,\"%         |\",accRFnoisyXnoisy,\"%       |\",accRFnoisylXdenoised,\"%          |\")\n",
    "print(\"RF  trained on denoised Data |\",accRFdenoisedXoriginal,\"%         |\",accRFdenoisedXnoisy,\"%       |\",accRFdenoisedlXdenoised,\"%          |\")\n",
    "print(\"                             |----------------------------------------------------|\")\n",
    "print(\"MLP trained on original Data |\",accMLPorginalXoriginal,\"%         |\",accMLPorginalXnoisy,\"%       |\",accMLPorginalXdenoised,\"%          |\")\n",
    "print(\"MLP trained on noisy Data    |\",accMLPnoisyXoriginal,\"%         |\",accMLPnoisyXnoisy,\"%       |\",accMLPnoisylXdenoised,\"%          |\")\n",
    "print(\"MLP trained on denoised Data |\",accMLPdenoisedXoriginal,\"%         |\",accMLPdenoisedXnoisy,\"%       |\",accMLPdenoisedlXdenoised,\"%          |\")"
   ]
  },
  {
   "cell_type": "markdown",
   "metadata": {},
   "source": [
    "Now let's draw conclusions. We should not compare directly RF and MLP because each classifier can be improved by setting some parameters (e.g. Use a bigger forest, set a max_depth or use a bigger NN, increase the number of epochs...).\n",
    "\n",
    "First, about RF :\n",
    "<ul>\n",
    "    <li>The best score is reached with the RF trained on original data and used on original data, the mst classic one.</li>\n",
    "    <li>We can say that the RF are always bad when the data is too noisy. Even the one trained on noisy data is bad.</li>\n",
    "</ul>\n",
    "\n",
    "Then, about MLP :\n",
    "<ul>\n",
    "    <li>The first thing we notice is that the best of them all to predict y_test is the MLP trained on orginal data.\n",
    "However, this one is very bad at classifying noisy data. It has never seen a noisy image so it's lost when it has to deal with noisy data.</li>\n",
    "    <li>The MLP trained on noisy data is really interesting because it has great score on every types of data. It is very good in average. So this might be the one we should use if we really don't know what kind of data will come next.</li>\n",
    "    <li>The MLP trained on denoised data has two very high scores on original and denoised data. Even if it can't understand noisy image, it is maybe the one which understands the most important features of an image of number. We can suppose that some artefacts of the original data were detected as important features by the other algorithms, but it was a mistake to give importance to it. The noise made these particularities disappear by smoothing the data, uniformizing it.</li>\n",
    "</ul>\n",
    "\n",
    "Among all these facts, I think that the most interesting one is that the MLP trained on denoised data had a better score on original data than on denoised data, and this one is really high. By learning on smooth and fuzzy data, it must have a very small overfitting on the original dataset. The final score on original data is pretty close to the best one. We can suppose that the mistakes that this algorithms makes are more \"human\" than the mistakes of the others algorithms. It just learned the global idea of the shape of each number and not just focused on some specific artefacts."
   ]
  }
 ],
 "metadata": {
  "kernelspec": {
   "display_name": "Python 3",
   "language": "python",
   "name": "python3"
  },
  "language_info": {
   "codemirror_mode": {
    "name": "ipython",
    "version": 3
   },
   "file_extension": ".py",
   "mimetype": "text/x-python",
   "name": "python",
   "nbconvert_exporter": "python",
   "pygments_lexer": "ipython3",
   "version": "3.5.2"
  }
 },
 "nbformat": 4,
 "nbformat_minor": 2
}
