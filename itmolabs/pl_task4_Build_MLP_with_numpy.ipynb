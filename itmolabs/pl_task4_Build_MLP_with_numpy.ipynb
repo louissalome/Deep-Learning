{
 "cells": [
  {
   "cell_type": "markdown",
   "metadata": {},
   "source": [
    "# Build a Multi-Layer Perceptron from scratch\n",
    "\n",
    "##### Louis Salomé\n",
    "\n",
    "Mostly inspired from a code written by Bernd Klei found with this link : https://www.python-course.eu/neural_networks_with_python_numpy.php\n",
    "\n",
    "My personal work in this notebook is :\n",
    "* comment the code\n",
    "* force the use of a bias nodes\n",
    "* add a batch size argument to use mini batch strategy\n",
    "* add a method for a tuning number of epochs and plot training error\n",
    "* add a method for computing a score on a test set\n",
    "* test it on MNIST Dataset\n",
    "* add a second hidden layer !\n",
    "\n",
    "In the last part of this notebook is a GUI that enables you to draw a digit with your mouse in a window and see if your neural network can guess it."
   ]
  },
  {
   "cell_type": "code",
   "execution_count": 2,
   "metadata": {
    "collapsed": true
   },
   "outputs": [],
   "source": [
    "import numpy as np\n",
    "from scipy.stats import truncnorm\n",
    "import matplotlib.pyplot as plt"
   ]
  },
  {
   "cell_type": "code",
   "execution_count": 3,
   "metadata": {
    "collapsed": true
   },
   "outputs": [],
   "source": [
    "@np.vectorize # decorator to vectorize the result\n",
    "def sigmoid(x):\n",
    "    return 1 / (1 + np.exp(-x))\n",
    "activation_function = sigmoid\n",
    "\n",
    "def truncated_normal(mean=0, sd=1, low=0, upp=10):\n",
    "    return truncnorm(\n",
    "        (low - mean) / sd, (upp - mean) / sd, loc=mean, scale=sd)"
   ]
  },
  {
   "cell_type": "markdown",
   "metadata": {},
   "source": [
    "## 1. A 1-hidden layer perceptron"
   ]
  },
  {
   "cell_type": "code",
   "execution_count": 5,
   "metadata": {
    "collapsed": true
   },
   "outputs": [],
   "source": [
    "class myMLP:\n",
    "            \n",
    "    def __init__(self, n_in, n_out, n_hidden, learning_rate):  \n",
    "        self.n_in = n_in                   # number of input nodes\n",
    "        self.n_out = n_out                 # number of output nodes\n",
    "        self.n_hidden = n_hidden           # number of hidden nodes in the first layer\n",
    "        self.learning_rate = learning_rate # learning rate\n",
    "        self.create_weight_matrices()\n",
    "        \n",
    "    def create_weight_matrices(self):\n",
    "        \"\"\" A method to initialize the weight matrices of the neural \n",
    "        network with optional bias nodes\"\"\"\n",
    "\n",
    "        # initialise weights between in and hidden\n",
    "        rad = 1 / np.sqrt(self.n_in + 1)\n",
    "        X = truncated_normal(mean=0, sd=1, low=-rad, upp=rad)\n",
    "        self.weights_in_hidden = X.rvs((self.n_hidden, self.n_in + 1))\n",
    "        \n",
    "        # initialise weights between hidden and out\n",
    "        rad = 1 / np.sqrt(self.n_hidden + 1)\n",
    "        X = truncated_normal(mean=0, sd=1, low=-rad, upp=rad)\n",
    "        self.weights_hidden_out = X.rvs((self.n_out, self.n_hidden + 1))\n",
    "        \n",
    "        \n",
    "        \n",
    "    def learn_one_batch(self, input_vector, target_vector):\n",
    "        \n",
    "        ################ FEED FORWARD #################\n",
    "        # hidden layer\n",
    "        output_vector1 = np.dot(self.weights_in_hidden, input_vector)\n",
    "        output_vector_hidden = activation_function(output_vector1)\n",
    "        # add offset for bias node    \n",
    "        output_vector_hidden = np.concatenate(\n",
    "            (output_vector_hidden, np.ones((1,output_vector_hidden.shape[1]))) , axis=0)\n",
    "        \n",
    "        # output layer\n",
    "        output_vector2 = np.dot(self.weights_hidden_out, output_vector_hidden)\n",
    "        output_vector_network = activation_function(output_vector2)\n",
    "        ###############################################\n",
    "    \n",
    "        \n",
    "        ############### BACKPROPAGATION ###############\n",
    "        # hidden // output \n",
    "        output_errors = target_vector - output_vector_network\n",
    "        tmp = output_errors * output_vector_network * (1.0 - output_vector_network) \n",
    "        tmp = self.learning_rate  * np.dot(tmp, output_vector_hidden.T)\n",
    "        self.weights_hidden_out += tmp\n",
    "        \n",
    "        # input // hidden\n",
    "        hidden_errors = np.dot(self.weights_hidden_out.T, output_errors)\n",
    "        tmp = hidden_errors * output_vector_hidden * (1.0 - output_vector_hidden)\n",
    "        tmp = np.dot(tmp, input_vector.T)[:-1,:]\n",
    "        self.weights_in_hidden += self.learning_rate * tmp\n",
    "        ###############################################\n",
    "        \n",
    "        # get training error for plotting\n",
    "        acc = ( np.argmax(output_vector_network,axis=0)\n",
    "               == np.argmax(target_vector,axis=0)       ).sum() / target_vector.shape[1]\n",
    "        return acc\n",
    "        \n",
    "    \n",
    "    def train(self,input_vector, target_vector,epochs = 1000,verbose=0,batch_size = 128):\n",
    "        \n",
    "        # adding offset to input data as bias node\n",
    "        input_vector = np.concatenate( (input_vector, np.ones((input_vector.shape[0],1))) , axis=1)\n",
    "                                    \n",
    "        # Check dimensions\n",
    "        assert input_vector.ndim == 2, \"Wrong input_vector dimension\"\n",
    "        assert target_vector.ndim == 2, \"Wrong target_vector dimension\"\n",
    "        \n",
    "        # plot training error\n",
    "        errs = []\n",
    "        \n",
    "        for epoch in range(epochs):\n",
    "            # define a batch for this epoch\n",
    "            index = np.random.randint(input_vector.shape[0], size=batch_size)\n",
    "            acc = self.learn_one_batch(input_vector[index].T, target_vector[index].T)\n",
    "            # store training error\n",
    "            errs.append(1-acc)\n",
    "\n",
    "            if verbose == 1:\n",
    "                print(\"epoch :\",epoch,\"err\",1-acc)\n",
    "        print(\"Training complete !\",epochs,\"epochs done.\")\n",
    "        \n",
    "        plt.plot(errs)\n",
    "        plt.title(\"Training error\")\n",
    "        plt.xlabel(\"Epochs\")\n",
    "        plt.ylabel(\"Training error\")\n",
    "        plt.grid(True)\n",
    "        plt.show()\n",
    "        pass\n",
    "\n",
    "        \n",
    "    def run(self, input_vector):\n",
    "        \n",
    "        # adding bias node to the end of the input_vector\n",
    "        input_vector = np.concatenate( (input_vector, np.ones((input_vector.shape[0],1))) , axis=1)\n",
    "        input_vector = np.array(input_vector, ndmin=2).T\n",
    "        \n",
    "        ################ FEED FORWARD #################\n",
    "        output_vector = np.dot(self.weights_in_hidden, input_vector)\n",
    "        output_vector = activation_function(output_vector)\n",
    "        output_vector = np.concatenate( (output_vector, np.ones((1,output_vector.shape[1]))) , axis=0)\n",
    "            \n",
    "        output_vector = np.dot(self.weights_hidden_out, output_vector)\n",
    "        output_vector = activation_function(output_vector)\n",
    "        ###############################################\n",
    "    \n",
    "        return output_vector\n",
    "    \n",
    "    def score(self,input_vector,target_vector):\n",
    "        output_vector = self.run(input_vector)\n",
    "        predict_vector = np.argmax(output_vector,axis=0)\n",
    "        return (predict_vector == target_vector).sum() / target_vector.size\n",
    "    "
   ]
  },
  {
   "cell_type": "code",
   "execution_count": 8,
   "metadata": {},
   "outputs": [
    {
     "name": "stdout",
     "output_type": "stream",
     "text": [
      "Training complete ! 1500 epochs done.\n"
     ]
    },
    {
     "data": {
      "image/png": "[encoded data removed]",
      "text/plain": [
       "<Figure size 432x288 with 1 Axes>"
      ]
     },
     "metadata": {
      "needs_background": "light"
     },
     "output_type": "display_data"
    },
    {
     "name": "stdout",
     "output_type": "stream",
     "text": [
      "Accuracy :  92.98 %\n",
      "Wall time: 34.1 s\n"
     ]
    }
   ],
   "source": [
    "%%time\n",
    "\n",
    "# import dataset\n",
    "from sklearn.datasets import fetch_mldata\n",
    "mnist = fetch_mldata('MNIST original')\n",
    "X, y = mnist.data, mnist.target\n",
    "X, y = X.astype('float32'), y.astype('float32')\n",
    "X /= 255\n",
    "\n",
    "# split train & test\n",
    "from sklearn.model_selection import train_test_split\n",
    "X_train, X_test, y_train, y_test = train_test_split(X, y, test_size=0.3, random_state=42)\n",
    "\n",
    "# use one hot encoder\n",
    "from sklearn.preprocessing import OneHotEncoder\n",
    "def one_hot(y):\n",
    "    enc = OneHotEncoder()\n",
    "    enc.fit(y.reshape(-1,1))\n",
    "    return enc.transform(y.reshape(-1,1)).toarray()\n",
    "\n",
    "# initialise classifier\n",
    "m,n = X_train.shape\n",
    "mlp = myMLP(n_in = n, n_out = 10, n_hidden = 64, learning_rate=0.007)\n",
    "\n",
    "# train\n",
    "mlp.train(X_train,one_hot(y_train),epochs=1500,verbose=0, batch_size = 128)\n",
    "\n",
    "# score\n",
    "print(\"Accuracy : \",round(100*mlp.score(X_test,y_test),2),'%')"
   ]
  },
  {
   "cell_type": "markdown",
   "metadata": {},
   "source": [
    "## 2. Two hidden layers"
   ]
  },
  {
   "cell_type": "code",
   "execution_count": 10,
   "metadata": {
    "collapsed": true
   },
   "outputs": [],
   "source": [
    "class myMLP:\n",
    "            \n",
    "    def __init__(self, n_in, n_out, n_hidden_1, n_hidden_2, learning_rate):  \n",
    "        self.n_in = n_in                   # number of input nodes\n",
    "        self.n_out = n_out                 # number of output nodes\n",
    "        self.n_hidden_1 = n_hidden_1       # number of hidden nodes in the first hidden layer\n",
    "        self.n_hidden_2 = n_hidden_2       # number of hidden nodes in the second hidden layer\n",
    "        self.learning_rate = learning_rate # learning rate\n",
    "        self.create_weight_matrices()\n",
    "        \n",
    "    def create_weight_matrices(self):\n",
    "        \"\"\" A method to initialize the weight matrices of the neural \n",
    "        network with optional bias nodes\"\"\"\n",
    "\n",
    "        # initialise weights between in and hidden_1\n",
    "        rad = 1 / np.sqrt(self.n_in + 1)\n",
    "        X = truncated_normal(mean=0, sd=1, low=-rad, upp=rad)\n",
    "        self.weights_in_hidden_1 = X.rvs((self.n_hidden_1, self.n_in + 1))\n",
    "        \n",
    "        # initialise weights between hidden_1 and hidden_2\n",
    "        rad = 1 / np.sqrt(self.n_hidden_1 + 1)\n",
    "        X = truncated_normal(mean=0, sd=1, low=-rad, upp=rad)\n",
    "        self.weights_hidden_1_hidden_2 = X.rvs((self.n_hidden_2, self.n_hidden_1 + 1))\n",
    "        \n",
    "        # initialise weights between hidden and out\n",
    "        rad = 1 / np.sqrt(self.n_hidden_2 + 1)\n",
    "        X = truncated_normal(mean=0, sd=1, low=-rad, upp=rad)\n",
    "        self.weights_hidden_2_out = X.rvs((self.n_out, self.n_hidden_2 + 1))\n",
    "        \n",
    "        \n",
    "        \n",
    "    def learn_one_batch(self, input_vector, target_vector):\n",
    "        \n",
    "        ################ FEED FORWARD #################\n",
    "        # first transitions\n",
    "        output_vector_hidden_1 = np.dot(self.weights_in_hidden_1, input_vector)\n",
    "        output_vector_hidden_1 = activation_function(output_vector_hidden_1)\n",
    "        output_vector_hidden_1 = np.concatenate( (output_vector_hidden_1, np.ones((1,output_vector_hidden_1.shape[1]))) , axis=0)\n",
    "        \n",
    "        # second transitions\n",
    "        output_vector_hidden_2 = np.dot(self.weights_hidden_1_hidden_2, output_vector_hidden_1)\n",
    "        output_vector_hidden_2 = activation_function(output_vector_hidden_2)\n",
    "        output_vector_hidden_2 = np.concatenate( (output_vector_hidden_2, np.ones((1,output_vector_hidden_2.shape[1]))) , axis=0)\n",
    "        \n",
    "        # last transitions\n",
    "        output_vector_network = np.dot(self.weights_hidden_2_out, output_vector_hidden_2)\n",
    "        output_vector_network = activation_function(output_vector_network)\n",
    "        ###############################################\n",
    "        \n",
    "        ############### BACKPROPAGATION ###############\n",
    "        # HIDDEN_2 // OUT\n",
    "        output_errors   = target_vector - output_vector_network\n",
    "        tmp             = output_errors * output_vector_network * (1.0 - output_vector_network)\n",
    "        self.weights_hidden_2_out      += self.learning_rate * np.dot(tmp,   output_vector_hidden_2.T)\n",
    "\n",
    "        # HIDDEN_1 // HIDDEN_2\n",
    "        hidden_errors_2 = np.dot(self.weights_hidden_2_out.T, output_errors)\n",
    "        tmp             = hidden_errors_2 * output_vector_hidden_2 * (1.0 - output_vector_hidden_2) \n",
    "        self.weights_hidden_1_hidden_2 += self.learning_rate * np.dot(tmp, output_vector_hidden_1.T)[:-1,:]\n",
    "        \n",
    "        # IN // HIDDEN_1\n",
    "        hidden_errors_1 = np.dot(self.weights_hidden_1_hidden_2.T, hidden_errors_2[:-1,:]) #bias\n",
    "        tmp             = hidden_errors_1 * output_vector_hidden_1 * (1.0 - output_vector_hidden_1)\n",
    "        self.weights_in_hidden_1        += self.learning_rate * np.dot(tmp, input_vector.T)[:-1,:] \n",
    "        ###############################################\n",
    "        \n",
    "        acc = (np.argmax(output_vector_network,axis=0) \n",
    "               == np.argmax(target_vector,axis=0)    ).sum() / target_vector.shape[1]\n",
    "        return acc\n",
    "        \n",
    "    \n",
    "    def train(self,input_vector, target_vector,epochs = 1000,verbose=0,batch_size = 128):\n",
    "        \n",
    "        # adding bias node to the end of the input_vector\n",
    "        input_vector = np.concatenate( (input_vector, np.ones((input_vector.shape[0],1))) , axis=1)\n",
    "        \n",
    "        # Check dimensions\n",
    "        assert input_vector.ndim == 2, \"Wrong input_vector dimension\"\n",
    "        assert target_vector.ndim == 2, \"Wrong target_vector dimension\"\n",
    "        \n",
    "        # plot training error\n",
    "        errs = []\n",
    "        \n",
    "        for epoch in range(epochs):\n",
    "            # define a batch for this epoch\n",
    "            index = np.random.randint(input_vector.shape[0], size=batch_size)\n",
    "            acc = self.learn_one_batch(input_vector[index].T, target_vector[index].T)\n",
    "            # store training error\n",
    "            errs.append(1-acc)\n",
    "\n",
    "            if verbose == 1:\n",
    "                print(\"epoch :\",epoch,\"err\",1-acc)\n",
    "                \n",
    "        print(\"Training complete !\",epochs,\"epochs done.\")\n",
    "        \n",
    "        plt.plot(errs)\n",
    "        plt.title(\"Training error\")\n",
    "        plt.xlabel(\"Epochs\")\n",
    "        plt.ylabel(\"Training error\")\n",
    "        plt.grid(True)\n",
    "        plt.show()\n",
    "        pass\n",
    "\n",
    "        \n",
    "    def run(self, input_vector):\n",
    "        \n",
    "        # adding bias node to the end of the input_vector\n",
    "        input_vector = np.concatenate( (input_vector, np.ones((input_vector.shape[0],1))) , axis=1)\n",
    "        input_vector = np.array(input_vector, ndmin=2).T\n",
    "        \n",
    "        ################ FEED FORWARD #################\n",
    "        # first transitions\n",
    "        output_vector = np.dot(self.weights_in_hidden_1, input_vector)\n",
    "        output_vector = activation_function(output_vector)\n",
    "        output_vector = np.concatenate( (output_vector, np.ones((1,output_vector.shape[1]))) , axis=0)\n",
    "        \n",
    "        # second transitions\n",
    "        output_vector = np.dot(self.weights_hidden_1_hidden_2, output_vector)\n",
    "        output_vector = activation_function(output_vector)\n",
    "        output_vector = np.concatenate( (output_vector, np.ones((1,output_vector.shape[1]))) , axis=0)\n",
    "        \n",
    "        # last transitions\n",
    "        output_vector = np.dot(self.weights_hidden_2_out, output_vector)\n",
    "        output_vector = activation_function(output_vector)\n",
    "        ###############################################\n",
    "\n",
    "        return output_vector\n",
    "    \n",
    "    def score(self,input_vector,target_vector):\n",
    "        output = self.run(input_vector)\n",
    "        predict_vector = np.argmax(output,axis=0)\n",
    "        return (predict_vector == target_vector).sum() / target_vector.size\n",
    "    "
   ]
  },
  {
   "cell_type": "code",
   "execution_count": 11,
   "metadata": {},
   "outputs": [
    {
     "name": "stdout",
     "output_type": "stream",
     "text": [
      "Training complete ! 4000 epochs done.\n"
     ]
    },
    {
     "data": {
      "image/png": "[encoded data removed]",
      "text/plain": [
       "<Figure size 432x288 with 1 Axes>"
      ]
     },
     "metadata": {
      "needs_background": "light"
     },
     "output_type": "display_data"
    },
    {
     "name": "stdout",
     "output_type": "stream",
     "text": [
      "Accuracy :  95.09 %\n",
      "Wall time: 1min 51s\n"
     ]
    }
   ],
   "source": [
    "%%time\n",
    "\n",
    "# import dataset\n",
    "from sklearn.datasets import fetch_mldata\n",
    "mnist = fetch_mldata('MNIST original')\n",
    "X, y = mnist.data, mnist.target\n",
    "X, y = X.astype('float32'), y.astype('float32')\n",
    "X /= 255\n",
    "\n",
    "# split train & test\n",
    "from sklearn.model_selection import train_test_split\n",
    "X_train, X_test, y_train, y_test = train_test_split(X, y, test_size=0.3, random_state=42)\n",
    "\n",
    "# use one hot encoder\n",
    "from sklearn.preprocessing import OneHotEncoder\n",
    "def one_hot(y):\n",
    "    enc = OneHotEncoder()\n",
    "    enc.fit(y.reshape(-1,1))\n",
    "    return enc.transform(y.reshape(-1,1)).toarray()\n",
    "\n",
    "# initialise classifier\n",
    "m,n = X_train.shape\n",
    "mlp = myMLP(n_in = n, n_out = 10, n_hidden_1 = 100, n_hidden_2 = 20, learning_rate=0.005)\n",
    "\n",
    "# train\n",
    "mlp.train(X_train,one_hot(y_train),epochs=4000,verbose=0, batch_size = 128)\n",
    "\n",
    "# score\n",
    "print(\"Accuracy : \",round(100*mlp.score(X_test,y_test),2),'%')"
   ]
  },
  {
   "cell_type": "markdown",
   "metadata": {},
   "source": [
    "## 3. GUI : draw your digit\n",
    "\n",
    "With this cell, you can draw your digit, save it and then ask your neural network a prediction. The erase button enables you to restart."
   ]
  },
  {
   "cell_type": "code",
   "execution_count": 28,
   "metadata": {},
   "outputs": [
    {
     "name": "stdout",
     "output_type": "stream",
     "text": [
      "Pressed 'predict' button :\n"
     ]
    },
    {
     "data": {
      "image/png": "[encoded data removed]",
      "text/plain": [
       "<Figure size 432x288 with 1 Axes>"
      ]
     },
     "metadata": {
      "needs_background": "light"
     },
     "output_type": "display_data"
    },
    {
     "name": "stdout",
     "output_type": "stream",
     "text": [
      "Number predicted : 2\n",
      "\n",
      "\n",
      "*********************\n",
      "Pressed 'predict' button :\n"
     ]
    },
    {
     "data": {
      "image/png": "[encoded data removed]",
      "text/plain": [
       "<Figure size 432x288 with 1 Axes>"
      ]
     },
     "metadata": {
      "needs_background": "light"
     },
     "output_type": "display_data"
    },
    {
     "name": "stdout",
     "output_type": "stream",
     "text": [
      "Number predicted : 3\n",
      "\n",
      "\n",
      "*********************\n",
      "Pressed 'predict' button :\n"
     ]
    },
    {
     "data": {
      "image/png": "[encoded data removed]",
      "text/plain": [
       "<Figure size 432x288 with 1 Axes>"
      ]
     },
     "metadata": {
      "needs_background": "light"
     },
     "output_type": "display_data"
    },
    {
     "name": "stdout",
     "output_type": "stream",
     "text": [
      "Number predicted : 7\n",
      "\n",
      "\n",
      "*********************\n"
     ]
    }
   ],
   "source": [
    "from tkinter import *\n",
    "from PIL import Image\n",
    "\n",
    "import skimage as ski\n",
    "import skimage.io as ski_io\n",
    "from skimage.transform import rescale\n",
    "\n",
    "# define properties of the window and the of the pen\n",
    "margin = 10\n",
    "canvas_height = margin+margin+28*12\n",
    "canvas_width = canvas_height + 250\n",
    "width_brush = 18\n",
    "\n",
    "# event : draw a pixel\n",
    "def paint( event ):\n",
    "    x1, y1 = ( event.x - 1 ), ( event.y - 1 )\n",
    "    x2, y2 = ( event.x + width_brush ), ( event.y + width_brush )\n",
    "    #print(\"mouse detected on pixel (\",x1,\",\",x2,\")\")\n",
    "    if (x1>=10 and x1<canvas_height-margin - width_brush and\n",
    "        y1>=10 and y1<canvas_height-margin -width_brush):\n",
    "        w.create_rectangle( x1, y1, x2, y2, fill = \"black\")\n",
    "\n",
    "# erase prediction and drawing\n",
    "def erase( event=None ):\n",
    "    w.create_rectangle( margin,margin,canvas_height-margin,canvas_height-margin,fill=\"white\")\n",
    "    v.set('') \n",
    "\n",
    "# save your drawn picture\n",
    "def save( event = None ):\n",
    "    w.update()\n",
    "    ps = w.postscript(x=10,\n",
    "                      y=10,\n",
    "                      width = canvas_height-10,\n",
    "                      height = canvas_height-10,\n",
    "                      colormode='mono'\n",
    "                      ,file = \"src/task4/digit.ps\"\n",
    "                     )\n",
    "\n",
    "# ask your nn a prediction\n",
    "def predict():\n",
    "    # read image\n",
    "    img=ski_io.imread('src/task4/digit.ps')\n",
    "    # convert RGB to grayscale\n",
    "    img = img.mean(axis=2)\n",
    "    # crop margin (and get a shape of 28*(k,k))\n",
    "    margin = int((260 - 28*8)/2)\n",
    "    img = img[margin:-margin,margin:-margin]\n",
    "    # rescale image\n",
    "    img = ski.transform.rescale(img, 1.0 / 8.0, mode = 'constant', order=1)\n",
    "    # invert color\n",
    "    img = 255-img\n",
    "    \n",
    "    img = np.array([img.reshape((784,))/255])\n",
    "    prediction = np.argmax(mlp.run(img))\n",
    "    v.set(\"This number is a \"+str(prediction))\n",
    "    \n",
    "    print(\"Pressed 'predict' button :\")\n",
    "    plt.imshow(img.reshape((28,28)),cmap='gray')\n",
    "    plt.show()\n",
    "    print(\"Number predicted :\",prediction)\n",
    "    print(\"\\n\\n*********************\")\n",
    "\n",
    "master = Tk()\n",
    "master.title( \"Draw a digit\" )\n",
    "w = Canvas(master, width=canvas_width, height=canvas_height)\n",
    "w.pack(expand = YES, fill = BOTH)\n",
    "\n",
    "w.create_rectangle( margin,margin,canvas_height-margin,canvas_height-margin,fill=\"white\")\n",
    "w.bind( \"<B1-Motion>\", paint )\n",
    "\n",
    "button_save = Button(master, text=\"save\", width = 28, height = 1, command=save)\n",
    "button_save.place(relx=(canvas_height + margin)/canvas_width, rely=(margin)/canvas_height)\n",
    "\n",
    "# button_display = Button(master, text=\"display\", width = 28,height = 1, command=display)\n",
    "# button_display.place(relx=(canvas_height + margin)/canvas_width, rely=(margin + 40)/canvas_height)\n",
    "\n",
    "button_predict = Button(master, text=\"predict\", width = 28,height = 1, command=predict)\n",
    "button_predict.place(relx=(canvas_height + margin)/canvas_width, rely=(margin + 40)/canvas_height)\n",
    "\n",
    "button_erase = Button(master, text=\"erase\", width = 28,height = 1, command=erase)\n",
    "button_erase.place(relx=(canvas_height + margin)/canvas_width, rely=(canvas_height - 28 - margin)/canvas_height)\n",
    "\n",
    "v = StringVar()\n",
    "label_prediction = Label(master, textvariable=v)\n",
    "label_prediction.place(relx=(canvas_height + margin)/canvas_width, rely=(margin + 80)/canvas_height)\n",
    "\n",
    "mainloop()"
   ]
  }
 ],
 "metadata": {
  "kernelspec": {
   "display_name": "Python 3",
   "language": "python",
   "name": "python3"
  },
  "language_info": {
   "codemirror_mode": {
    "name": "ipython",
    "version": 3
   },
   "file_extension": ".py",
   "mimetype": "text/x-python",
   "name": "python",
   "nbconvert_exporter": "python",
   "pygments_lexer": "ipython3",
   "version": "3.6.2"
  }
 },
 "nbformat": 4,
 "nbformat_minor": 2
}
